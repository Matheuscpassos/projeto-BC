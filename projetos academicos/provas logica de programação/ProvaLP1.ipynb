{
  "cells": [
    {
      "cell_type": "markdown",
      "metadata": {
        "id": "2zy40S-oGIta"
      },
      "source": [
        "### INSTRUÇÕES\n",
        "\n",
        " - Fazer os exercícios em um arquivo notebook (de extensão *.ipynb)  \n",
        " - Exercícios que pedem entrada de usuário deverão ter valores fixados. Exemplo:  \n",
        "    num = 6 #int(input('Digite um número inteiro')\n",
        " - As questões deverão ser respondidas em ordem\n",
        " - Todas as questões deverão ter uma explicação breve de como você pensou na solução\n",
        " - Cópias de soluções zerarão a questão dos dois fraudadores\n",
        " - Cópias de outros lugares zerarão a questão.\n",
        " - Uso de recursos não vistos em aula zerarão a questão.\n",
        " - Colocar seu nome, curso e dia da semana no início do notebook"
      ]
    },
    {
      "cell_type": "code",
      "execution_count": null,
      "metadata": {
        "id": "w0krj558fmsA"
      },
      "outputs": [],
      "source": []
    },
    {
      "cell_type": "markdown",
      "metadata": {
        "id": "I9ysRuzvHIQz"
      },
      "source": [
        "### Dados\n",
        "Nome:   Matheus Costa Passos\n",
        "Curso:  Ciência da computação\n",
        "Dia da semana:  segunda"
      ]
    },
    {
      "cell_type": "code",
      "execution_count": null,
      "metadata": {
        "id": "WHof30N2GIEM"
      },
      "outputs": [],
      "source": []
    },
    {
      "cell_type": "code",
      "execution_count": null,
      "metadata": {
        "id": "FNHT-F13foEz"
      },
      "outputs": [],
      "source": []
    },
    {
      "cell_type": "markdown",
      "metadata": {
        "id": "Xr0tJjshfpG8"
      },
      "source": [
        "1)\tFaça um programa que peça o ano de nascimento e mostra a idade do usuário no fim de 2025 e o ano que esse usuário fez ou fará 50 anos."
      ]
    },
    {
      "cell_type": "code",
      "execution_count": null,
      "metadata": {
        "id": "h5AEQikXfoCh"
      },
      "outputs": [],
      "source": [
        "# Solicita o ano de nascimento do usuário\n",
        "ano_nascimento = int(input(\"Digite o ano do seu nascimento: \"))\n",
        "\n",
        "# Calcula a idade ao final de 2025\n",
        "idade_em_2025 = 2025 - ano_nascimento\n",
        "\n",
        "# Calcula o ano em que o usuário fará 50 anos\n",
        "ano_50_anos = ano_nascimento + 50\n",
        "\n",
        "# Exibe os resultados\n",
        "print(f\"\\nVocê terá {idade_em_2025} anos no final de 2025.\")\n",
        "print(f\"Você fará 50 anos no ano de {ano_50_anos}.\")"
      ]
    },
    {
      "cell_type": "code",
      "execution_count": null,
      "metadata": {
        "id": "df7txZhjfn_k"
      },
      "outputs": [],
      "source": []
    },
    {
      "cell_type": "markdown",
      "metadata": {
        "id": "kx8EMup9fu_j"
      },
      "source": [
        "2)\t Faça um programa que peça números inteiros ao usuário e conta quantos números positivos e quantos números negativos foram digitados. O programa deverá parar quando o número zero for digitado, mostrando na tela os resultados. Além disso, o programa deverá informar se há mais números positivos, mais números negativos ou se há a mesma quantidade."
      ]
    },
    {
      "cell_type": "code",
      "execution_count": null,
      "metadata": {
        "id": "sVwWM-7Efn8L"
      },
      "outputs": [],
      "source": [
        "# Inicializa os contadores\n",
        "positivos = 0\n",
        "negativos = 0\n",
        "\n",
        "print(\"Digite números inteiros. Para encerrar, digite 0.\\n\")\n",
        "\n",
        "while True:\n",
        "    numero = int(input(\"Digite um número: \"))\n",
        "    \n",
        "    if numero == 0:\n",
        "        break\n",
        "    elif numero > 0:\n",
        "        positivos += 1\n",
        "    else:\n",
        "        negativos += 1\n",
        "\n",
        "# Mostra os resultados\n",
        "print(f\"\\nQuantidade de números positivos: {positivos}\")\n",
        "print(f\"Quantidade de números negativos: {negativos}\")\n",
        "\n",
        "# Compara os totais\n",
        "if positivos > negativos:\n",
        "    print(\"Foram digitados mais números positivos.\")\n",
        "elif negativos > positivos:\n",
        "    print(\"Foram digitados mais números negativos.\")\n",
        "else:\n",
        "    print(\"Foi digitada a mesma quantidade de números positivos e negativos.\")"
      ]
    },
    {
      "cell_type": "code",
      "execution_count": null,
      "metadata": {
        "id": "238226Qzf0uq"
      },
      "outputs": [],
      "source": []
    },
    {
      "cell_type": "markdown",
      "metadata": {
        "id": "I1XP2jRpf1lt"
      },
      "source": [
        "3) \tFaça um programa que converta a temperatura de graus Celsius para graus Farenheit ou vice-versa. O programa deverá perguntar se a temperatura de entrada está em Celsius ou Farenheit e mostrar a temperatura digitada convertida para a outra unidade. Fórmulas úteis:  $$C=\\frac{5(F-32)}{9}$$,   $$F=\\frac{9C}{5}+32$$."
      ]
    },
    {
      "cell_type": "code",
      "execution_count": null,
      "metadata": {
        "id": "HzYZeAfef1HF"
      },
      "outputs": [],
      "source": [
        "# Pergunta ao usuário qual é a unidade de entrada\n",
        "unidade = input(\"A temperatura está em Celsius ou Fahrenheit? (Digite C ou F): \").strip().upper()\n",
        "\n",
        "# Verifica a escolha e executa a conversão\n",
        "if unidade == \"C\":\n",
        "    celsius = float(input(\"Digite a temperatura em Celsius: \"))\n",
        "    fahrenheit = (9 * celsius) / 5 + 32\n",
        "    print(f\"{celsius:.2f}°C equivalem a {fahrenheit:.2f}°F.\")\n",
        "    \n",
        "elif unidade == \"F\":\n",
        "    fahrenheit = float(input(\"Digite a temperatura em Fahrenheit: \"))\n",
        "    celsius = 5 * (fahrenheit - 32) / 9\n",
        "    print(f\"{fahrenheit:.2f}°F equivalem a {celsius:.2f}°C.\")\n",
        "    \n",
        "else:\n",
        "    print(\"Unidade inválida. Por favor, digite 'C' para Celsius ou 'F' para Fahrenheit.\")"
      ]
    },
    {
      "cell_type": "code",
      "execution_count": null,
      "metadata": {
        "id": "0x74TOKNf8Pp"
      },
      "outputs": [],
      "source": []
    },
    {
      "cell_type": "markdown",
      "metadata": {
        "id": "zx4Qm4wIgmC2"
      },
      "source": [
        "4) \tFaça um programa que, dado um número n maior que 5, mostra a primeira letra do seu nome feita com n linhas contendo a letra x. Esse programa deverá ter, no máximo, 4 laços de repetição.\n",
        "Exemplo: n = 6 (letra A):  \n"
      ]
    },
    {
      "cell_type": "markdown",
      "metadata": {
        "id": "UXh7UMeS6idi"
      },
      "source": [
        "\n",
        "```\n",
        "Digite um número maior que 5: 6\n",
        "      x     \n",
        "     x x    \n",
        "    x   x   \n",
        "   xxxxxxx  \n",
        "  x       x\n",
        " x         x\n",
        "```\n"
      ]
    },
    {
      "cell_type": "code",
      "execution_count": null,
      "metadata": {
        "id": "DdO2Jw4B5I8B"
      },
      "outputs": [],
      "source": [
        "# Solicita um número maior que 5\n",
        "n = int(input(\"Digite um número inteiro maior que 5: \"))\n",
        "\n",
        "if n <= 5:\n",
        "    print(\"O número deve ser maior que 5.\")\n",
        "else:\n",
        "    for i in range(n):\n",
        "        linha = \"\"\n",
        "        for j in range(n):\n",
        "            if j == 0 or j == n - 1:  # bordas da letra M\n",
        "                linha += \"x\"\n",
        "            elif i == j and j <= n // 2:  # diagonal da esquerda\n",
        "                linha += \"x\"\n",
        "            elif i + j == n - 1 and j >= n // 2:  # diagonal da direita\n",
        "                linha += \"x\"\n",
        "            else:\n",
        "                linha += \" \"\n",
        "        print(linha)"
      ]
    },
    {
      "cell_type": "code",
      "execution_count": null,
      "metadata": {
        "id": "PlK5-01yHb8S"
      },
      "outputs": [],
      "source": []
    },
    {
      "cell_type": "markdown",
      "metadata": {
        "id": "Y8G9orQV5JdJ"
      },
      "source": [
        "Faça um programa que mostre o seguinte padrão na tela, dado um número n:"
      ]
    },
    {
      "cell_type": "markdown",
      "metadata": {
        "id": "V2nNYQo95j1l"
      },
      "source": [
        "Digite um número inteiro positivo: 6  \n",
        "1  \n",
        "7 2  \n",
        "12 8 3  \n",
        "16 13 9 4  \n",
        "19 17 14 10 5  \n",
        "21 20 18 15 11 6"
      ]
    },
    {
      "cell_type": "markdown",
      "metadata": {
        "id": "vWmTrxz05tPQ"
      },
      "source": [
        "Digite um número inteiro positivo: 4  \n",
        "1  \n",
        "5 2  \n",
        "8 6 3  \n",
        "10 9 7 4  "
      ]
    },
    {
      "cell_type": "code",
      "execution_count": 9,
      "metadata": {
        "id": "dDlYfLqnf8TH"
      },
      "outputs": [],
      "source": []
    },
    {
      "cell_type": "code",
      "execution_count": null,
      "metadata": {
        "id": "zv4DBsqY4qk3"
      },
      "outputs": [],
      "source": []
    },
    {
      "cell_type": "code",
      "execution_count": null,
      "metadata": {
        "id": "EjUWIte44qWX"
      },
      "outputs": [],
      "source": []
    }
  ],
  "metadata": {
    "colab": {
      "provenance": []
    },
    "kernelspec": {
      "display_name": "Python 3",
      "name": "python3"
    },
    "language_info": {
      "name": "python"
    }
  },
  "nbformat": 4,
  "nbformat_minor": 0
}
